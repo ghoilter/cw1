{
 "cells": [
  {
   "cell_type": "markdown",
   "metadata": {
    "tags": []
   },
   "source": [
    "# DIY Covid-19 Dashboard Introduction\n",
    "\n",
    "\n",
    "With the normalization of the Covid-19, citizen especially London which has high population density should always pay some attention to the detection rate of the new cases. This dashboard is designed for showing the updated data of new cases number and new tests number in London. Users can choose the data you want to monitor to get individual chart and click the update button to get the latest data from PHE server. The dashboard can be presented by the scale of logarithm.\n"
   ]
  },
  {
   "cell_type": "code",
   "execution_count": 40,
   "metadata": {
    "tags": []
   },
   "outputs": [],
   "source": [
    "#import all the modules that is needed in the dashboard\n",
    "from IPython.display import clear_output\n",
    "import ipywidgets as wdg\n",
    "import pandas as pd\n",
    "import numpy as np\n",
    "import matplotlib.pyplot as plt\n",
    "import json\n",
    "from uk_covid19 import Cov19API"
   ]
  },
  {
   "cell_type": "code",
   "execution_count": 41,
   "metadata": {
    "tags": []
   },
   "outputs": [],
   "source": [
    "# make figures larger\n",
    "%matplotlib inline \n",
    "plt.rcParams['figure.dpi'] = 100"
   ]
  },
  {
   "cell_type": "code",
   "execution_count": 42,
   "metadata": {
    "tags": []
   },
   "outputs": [],
   "source": [
    "# Load initial data from local JSON files\n",
    "with open(\"london.json\", \"rt\") as INFILE:\n",
    "    jsondata=json.load(INFILE)"
   ]
  },
  {
   "cell_type": "code",
   "execution_count": 43,
   "metadata": {
    "tags": []
   },
   "outputs": [],
   "source": [
    "def parse_date(datestring):\n",
    "    \"\"\" Convert a date string into a pandas datetime object \"\"\"\n",
    "    return pd.to_datetime(datestring, format=\"%Y-%m-%d\")\n",
    "\n",
    "#This function wrangle the raw data into a DataFrame that will be used for plotting\n",
    "def wrangle_data(rawdata):\n",
    "    \"\"\" Wrangle the data into the format that is suitable for DataFrame\"\"\"\n",
    "    datalist=jsondata['data']\n",
    "    dates=[dictionary['date'] for dictionary in datalist ]\n",
    "    dates.sort()\n",
    "    #decode the time format into the format that DataFrame can read\n",
    "    startdate=parse_date(dates[0])\n",
    "    enddate=parse_date(dates[-1])\n",
    "    #to fill up the DataFrame\n",
    "    index=pd.date_range(startdate, enddate, freq='D')\n",
    "    londondf=pd.DataFrame(index=index, columns=['cases', 'tests'])\n",
    "    for entry in datalist:\n",
    "        date=parse_date(entry['date'])\n",
    "        # to ganrantee the data is vaild\n",
    "        for column in ['cases', 'tests']:\n",
    "            if pd.isna(londondf.loc[date, column]): \n",
    "                value= float(entry[column]) if entry[column]!=None else 0.0 \n",
    "                #replace None with 0 \n",
    "                londondf.loc[date, column]=value\n",
    "    #fill up any missing dates\n",
    "    londondf.fillna(0.0, inplace=True)\n",
    "    return(londondf)\n",
    "df=wrangle_data(jsondata)"
   ]
  },
  {
   "cell_type": "code",
   "execution_count": 44,
   "metadata": {
    "tags": []
   },
   "outputs": [],
   "source": [
    " def access_api():\n",
    "    \"\"\" Accesses the PHE API  \"\"\"\n",
    "    #select the data we want\n",
    "    filters = [\n",
    "    'areaType=region',\n",
    "    'areaCode=E12000007',\n",
    "    'areaName=London'\n",
    "    ]\n",
    "    structure = {\n",
    "    \"date\": \"date\",\n",
    "    \"cases\": \"newCasesByPublishDate\",\n",
    "    \"tests\": \"newPCRTestsBySpecimenDate\",    \n",
    "    }\n",
    "    #download the latest data by accessing api\n",
    "    api = Cov19API(filters=filters, structure=structure)\n",
    "    london=api.get_json()\n",
    "    return (london)"
   ]
  },
  {
   "cell_type": "code",
   "execution_count": 45,
   "metadata": {
    "tags": []
   },
   "outputs": [
    {
     "data": {
      "application/vnd.jupyter.widget-view+json": {
       "model_id": "abd944f8fbe244bf82ab8e0a015ee435",
       "version_major": 2,
       "version_minor": 0
      },
      "text/plain": [
       "Button(button_style='info', description='Update Data', icon='download', style=ButtonStyle(), tooltip='Cilck to…"
      ]
     },
     "metadata": {},
     "output_type": "display_data"
    }
   ],
   "source": [
    "def api_button_callback(button):\n",
    "    \"\"\" Update and wrangle data with the feedback of clicking the button \"\"\"\n",
    "    apidata=access_api()\n",
    "    global df\n",
    "    df=wrangle_data(apidata)\n",
    "    #give user feedback of clicking button\n",
    "    apibutton.icon=\"check\"\n",
    "    apibutton.disabled=True\n",
    "    \n",
    "\n",
    "#design the update button\n",
    "apibutton=wdg.Button(\n",
    "    description='Update Data', # you may want to change this...\n",
    "    disabled=False,\n",
    "    button_style='info', # 'success', 'info', 'warning', 'danger' or ''\n",
    "    tooltip=\"Cilck to updata latest data from NHS server\",\n",
    "    icon='download'\n",
    ")\n",
    "\n",
    "#connect the button with function\n",
    "apibutton.on_click(api_button_callback)\n",
    "display(apibutton)"
   ]
  },
  {
   "cell_type": "code",
   "execution_count": 46,
   "metadata": {
    "tags": []
   },
   "outputs": [
    {
     "data": {
      "application/vnd.jupyter.widget-view+json": {
       "model_id": "92b4ed3b49dd464db743d865792f634c",
       "version_major": 2,
       "version_minor": 0
      },
      "text/plain": [
       "HBox(children=(Output(), VBox(children=(SelectMultiple(description='Stats:', index=(0, 1), options=('cases', '…"
      ]
     },
     "metadata": {},
     "output_type": "display_data"
    }
   ],
   "source": [
    "#the two control panel to adjust the series and scale    \n",
    "series=wdg.SelectMultiple(\n",
    "    options=['cases', 'tests'],\n",
    "    value=['cases', 'tests'],\n",
    "    rows=2,\n",
    "    description='Stats:',\n",
    "    disabled=False\n",
    ")\n",
    "\n",
    "scale=wdg.RadioButtons(\n",
    "    options=['linear', 'log'],\n",
    "    description='Scale:',\n",
    "    disabled=False\n",
    ")   \n",
    "\n",
    "def refresh_graph(gcols, gscale):\n",
    "    \"\"\" This function change the value of the widget in order to force a redraw of the graph \"\"\"\n",
    "    if gscale=='linear':\n",
    "        logscale=False\n",
    "    else:\n",
    "        logscale=True\n",
    "    ncols=len(gcols)\n",
    "    if ncols>0:\n",
    "        df[list(gcols)].plot(logy=logscale)\n",
    "        plt.show() \n",
    "    else:\n",
    "        #give user instruction if they choose none of data\n",
    "        print(\"Click to select data for graph\")\n",
    "        print(\"(CTRL-Click to select more than one category)\")\n",
    "\n",
    "graph=wdg.interactive_output(refresh_graph, {'gcols': series, 'gscale': scale})\n",
    "#the layout of dashboard\n",
    "controls=wdg.VBox([series, scale])\n",
    "form=wdg.HBox([graph, controls])\n",
    "display(form)"
   ]
  }
 ],
 "metadata": {
  "kernelspec": {
   "display_name": "Python 3 (ipykernel)",
   "language": "python",
   "name": "python3"
  },
  "language_info": {
   "codemirror_mode": {
    "name": "ipython",
    "version": 3
   },
   "file_extension": ".py",
   "mimetype": "text/x-python",
   "name": "python",
   "nbconvert_exporter": "python",
   "pygments_lexer": "ipython3",
   "version": "3.10.6"
  }
 },
 "nbformat": 4,
 "nbformat_minor": 4
}
